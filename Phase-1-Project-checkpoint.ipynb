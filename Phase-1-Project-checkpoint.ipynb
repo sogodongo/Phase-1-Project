{
 "cells": [
  {
   "cell_type": "markdown",
   "id": "2916620c",
   "metadata": {},
   "source": [
    "# 1. **Movie Insights: Exploring Box Office Performance and Ratings**"
   ]
  },
  {
   "cell_type": "markdown",
   "id": "a1911186",
   "metadata": {},
   "source": [
    "### a) Introduction \n",
    "Microsoft is a multinational technology company known for its wide range of software, hardware, and services. Founded in 1975 by Bill Gates and Paul Allen, Microsoft has played a pivotal role in shaping the digital landscape and revolutionizing the way people interact with technology. With iconic products such as Windows, Office, and Xbox, Microsoft has established itself as a global leader in the technology industry. The company's mission is to empower individuals and organizations worldwide to achieve more through the power of innovative technology solutions. Microsoft's commitment to innovation, coupled with its strong focus on cloud computing, artificial intelligence, and digital transformation, has positioned it as a key player in the modern digital era. Continually striving to push the boundaries of what is possible, Microsoft remains at the forefront of technological advancements, driving innovation and transforming industries across the globe.\n",
    "\n",
    "In an effort to expand its business portfolio, Microsoft is venturing into the movie industry by establishing a new movie studio. However, to navigate this highly competitive industry and maximize their chances of success, Microsoft needs a comprehensive understanding of the types of films that resonate with audiences and perform well at the box office. This project aims to address this knowledge gap by conducting an in-depth analysis of data from various authoritative sources in the movie industry, including Box Office Mojo, IMDB, Rotten Tomatoes, TheMovieDB, and The Numbers. By leveraging this data, the project seeks to identify successful film genres and provide actionable insights that can guide Microsoft's decision-making process when it comes to selecting the types of films to produce"
   ]
  },
  {
   "cell_type": "markdown",
   "id": "85f08774",
   "metadata": {},
   "source": [
    "### b) Problem Statement\n",
    "\n",
    "Microsoft's lack of knowledge about the current landscape of successful films at the box office presents a significant challenge. Without a clear understanding of which film genres are performing well and resonating with audiences, Microsoft's movie studio is at a disadvantage when it comes to making strategic decisions about the types of films they should produce. This knowledge gap hampers their ability to allocate resources effectively and increases the risk of producing films that may not resonate with audiences or generate significant revenue. Therefore, the primary objective of this project is to analyze the available data from reputable sources and identify the film genres that exhibit strong financial performance. By doing so, Microsoft can make informed choices about the types of films to produce and increase their chances of success in the highly competitive movie industry."
   ]
  },
  {
   "cell_type": "markdown",
   "id": "88c0206d",
   "metadata": {},
   "source": [
    "### c) Main Objective\n",
    "\n",
    "To provide valuable insights to Microsoft's new movie studio by analyzing the current trends and performance of different film genres at the box office. By identifying successful genres, the project aims to guide Microsoft in making informed decisions about the types of films to produce\n"
   ]
  },
  {
   "cell_type": "markdown",
   "id": "ffd9193a",
   "metadata": {},
   "source": [
    "### d) Specific Objectives\n",
    "\n",
    "#### Objective 1: Analyze Box Office Performance\n",
    "Explore the \"movie_basics\" file to analyze the box office performance of different films.\n",
    "Examine the domestic and international gross earnings, budgets, and release dates of movies.\n",
    "Identify the highest-grossing films and compare their performance across genres.\n",
    "Determine genres that consistently perform well at the box office and have a higher likelihood of financial success.\n",
    "\n",
    "#### Objective 2: Evaluate Audience Ratings\n",
    "Utilize the \"movie_ratings\" table in the \"im.db.zip\" file to analyze audience ratings of films.\n",
    "Examine ratings and reviews from platforms like IMDb and Rotten Tomatoes.\n",
    "Identify genres that receive positive audience feedback and have a higher likelihood of success based on ratings.\n",
    "Consider viewers' opinions and preferences to guide genre selection and increase the chances of audience appeal.\n",
    "\n",
    "#### Objective 3: Assess Genre Popularity and Trends\n",
    "Analyze the genre distribution in the \"movie_basics\" table to understand the popularity of different genres among filmmakers and audiences.\n",
    "Examine the frequency and distribution of genres to identify those currently in high demand and with a larger market share.\n",
    "Explore temporal trends to identify emerging or declining genres in the movie industry.\n",
    "Gain insights into the preferences of filmmakers and audiences to inform genre selection and capitalize on market trends.\n",
    "\n",
    "#### Objective 4: Analyze Market Share and Competition\n",
    "Utilize the \"bom.movie_gross.csv.gz\" file to gather data on movie gross earnings and market share.\n",
    "Analyze the performance of films from different studios and production companies.\n",
    "Identify the market share of different studios and successful competitors within specific genres."
   ]
  },
  {
   "cell_type": "markdown",
   "id": "14463d19",
   "metadata": {},
   "source": [
    "### f) Data Understanding \n",
    "\n"
   ]
  },
  {
   "cell_type": "markdown",
   "id": "14a3c266",
   "metadata": {},
   "source": [
    "# 2. **Importing Libraries**"
   ]
  },
  {
   "cell_type": "code",
   "execution_count": 7,
   "id": "6549fefa",
   "metadata": {},
   "outputs": [],
   "source": [
    "import sqlite3\n",
    "import pandas as pd\n",
    "import numpy as np\n",
    "import matplotlib.pyplot as plt\n",
    "import seaborn as sns\n",
    "import warnings\n",
    "from datetime import datetime\n",
    "import pickle\n",
    "warnings.filterwarnings('ignore')\n",
    "pd.options.display.float_format = '{:.2f}'.format"
   ]
  },
  {
   "cell_type": "markdown",
   "id": "3fee936c",
   "metadata": {},
   "source": [
    "# 3. **Reading Data**"
   ]
  },
  {
   "cell_type": "code",
   "execution_count": null,
   "id": "c853d7cb",
   "metadata": {},
   "outputs": [],
   "source": [
    "movie_basics="
   ]
  }
 ],
 "metadata": {
  "kernelspec": {
   "display_name": "Python (learn-env)",
   "language": "python",
   "name": "learn-env"
  },
  "language_info": {
   "codemirror_mode": {
    "name": "ipython",
    "version": 3
   },
   "file_extension": ".py",
   "mimetype": "text/x-python",
   "name": "python",
   "nbconvert_exporter": "python",
   "pygments_lexer": "ipython3",
   "version": "3.10.11"
  }
 },
 "nbformat": 4,
 "nbformat_minor": 5
}
